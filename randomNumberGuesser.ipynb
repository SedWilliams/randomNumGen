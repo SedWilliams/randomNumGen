{
 "cells": [
  {
   "cell_type": "code",
   "execution_count": 17,
   "id": "505322b3",
   "metadata": {},
   "outputs": [
    {
     "name": "stdout",
     "output_type": "stream",
     "text": [
      "Guess a number between 1 and 10: 2\n",
      "You guessd wrong!\n",
      "Guess a number between 1 and 10: 3\n",
      "You guessd wrong!\n",
      "Guess a number between 1 and 10: 4\n",
      "You guessd wrong!\n",
      "Guess a number between 1 and 10: 5\n",
      "You guessd wrong!\n",
      "Guess a number between 1 and 10: 6\n",
      "You guessd wrong!\n",
      "Guess a number between 1 and 10: 7\n",
      "You guessed right!\n"
     ]
    }
   ],
   "source": [
    "import random as rd\n",
    "\n",
    "num = rd.randint(1, 10)\n",
    "\n",
    "def run():\n",
    "    \n",
    "    guess = int(input(\"Guess a number between 1 and 10: \"))\n",
    "\n",
    "    if num == guess:\n",
    "        print(\"You guessed right!\")\n",
    "    elif num != guess:\n",
    "        print(\"You guessd wrong!\")\n",
    "        run()\n",
    "        \n",
    "run()"
   ]
  }
 ],
 "metadata": {
  "kernelspec": {
   "display_name": "Python 3 (ipykernel)",
   "language": "python",
   "name": "python3"
  },
  "language_info": {
   "codemirror_mode": {
    "name": "ipython",
    "version": 3
   },
   "file_extension": ".py",
   "mimetype": "text/x-python",
   "name": "python",
   "nbconvert_exporter": "python",
   "pygments_lexer": "ipython3",
   "version": "3.8.3"
  }
 },
 "nbformat": 4,
 "nbformat_minor": 5
}
